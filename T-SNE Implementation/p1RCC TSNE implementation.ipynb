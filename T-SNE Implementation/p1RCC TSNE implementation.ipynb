{
 "cells": [
  {
   "cell_type": "code",
   "execution_count": null,
   "metadata": {},
   "outputs": [],
   "source": [
    "import numpy as np\n",
    "from sklearn.decomposition import PCA\n",
    "from MulticoreTSNE import MulticoreTSNE as TSNE\n",
    "import matplotlib.pyplot as plt\n",
    "from cycler import cycler"
   ]
  },
  {
   "cell_type": "markdown",
   "metadata": {},
   "source": [
    "### Adapted Code from TSNE-Multicore Github\n",
    "- reference: https://github.com/DmitryUlyanov/Multicore-TSNE"
   ]
  },
  {
   "cell_type": "code",
   "execution_count": null,
   "metadata": {},
   "outputs": [],
   "source": [
    "matrix_path = '/home/lilyvittayarukskul/p1RCC_hackathon/phylogeny_algo/perfect_phylogeny-master/tsne_python/overall_matrix.txt'\n",
    "labels_path = '/home/lilyvittayarukskul/p1RCC_hackathon/phylogeny_algo/perfect_phylogeny-master/tsne_python/stage_labels.txt'\n",
    "matrix_np = np.loadtxt(matrix_path)\n",
    "labels_np = np.loadtxt(labels_path)"
   ]
  },
  {
   "cell_type": "code",
   "execution_count": null,
   "metadata": {},
   "outputs": [],
   "source": [
    "pca = PCA(n_components=1000, whiten=True)\n",
    "pca_data = pca.fit_transform(matrix_np)"
   ]
  },
  {
   "cell_type": "code",
   "execution_count": null,
   "metadata": {},
   "outputs": [],
   "source": [
    "pca_data.shape"
   ]
  },
  {
   "cell_type": "code",
   "execution_count": null,
   "metadata": {},
   "outputs": [],
   "source": [
    "class args(object):\n",
    "    #number of threads to use\n",
    "    n_jobs = 90\n",
    "    #number of classified objects (Y)\n",
    "    n_objects = len(labels_np)\n",
    "    #dimension of projected image\n",
    "    n_components = 2\n",
    "    # matrix of columns = genetics features and rows = patients\n",
    "    X = pca_data\n",
    "    \n",
    "def plot(Y, classes, name):\n",
    "    digits = set(classes)\n",
    "    fig = plt.figure()\n",
    "    colormap = plt.cm.hsv\n",
    "    plt.gca().set_prop_cycle(\n",
    "        cycler('color', [colormap(i) for i in np.linspace(0, 0.9, 10)]))\n",
    "    ax = fig.add_subplot(111)\n",
    "    labels = []\n",
    "    for d in digits:\n",
    "        idx = classes == d\n",
    "        if Y.shape[1] == 1:\n",
    "            ax.plot(Y[idx], np.random.randn(Y[idx].shape[0]), 'o')\n",
    "        else:\n",
    "            ax.plot(Y[idx, 0], Y[idx, 1], 'o')\n",
    "        \n",
    "        labels.append(d)\n",
    "    ax.legend(labels, numpoints=1, fancybox=True)\n",
    "    fig.savefig(name)\n",
    "    if Y.shape[1] > 2:\n",
    "        print('Warning! Plot shows only first two components!')\n",
    "\n",
    "tsne = TSNE(n_jobs=int(args.n_jobs), verbose=1, n_components=args.n_components,\n",
    "            perplexity=60.0, early_exaggeration=12.0, learning_rate=200.0,\n",
    "            n_iter=10000, n_iter_without_progress=300, min_grad_norm=1e-07, random_state=660)\n",
    "mnist_tsne = tsne.fit_transform(args.X)\n",
    "classes = labels_np\n",
    "\n",
    "filename = 'mnist_tsne_n_comp=%d.png' % args.n_components\n",
    "plot(mnist_tsne, classes, filename)\n",
    "print('Plot saved to %s' % filename)"
   ]
  }
 ],
 "metadata": {
  "kernelspec": {
   "display_name": "Python 3",
   "language": "python",
   "name": "python3"
  },
  "language_info": {
   "codemirror_mode": {
    "name": "ipython",
    "version": 3
   },
   "file_extension": ".py",
   "mimetype": "text/x-python",
   "name": "python",
   "nbconvert_exporter": "python",
   "pygments_lexer": "ipython3",
   "version": "3.6.5"
  }
 },
 "nbformat": 4,
 "nbformat_minor": 2
}
