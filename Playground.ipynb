{
 "cells": [
  {
   "cell_type": "code",
   "execution_count": 49,
   "metadata": {},
   "outputs": [],
   "source": [
    "import pandas as pd\n",
    "import seaborn as sns\n",
    "import matplotlib.pyplot as plt"
   ]
  },
  {
   "cell_type": "code",
   "execution_count": 112,
   "metadata": {},
   "outputs": [],
   "source": [
    "raw_data = pd.read_json('./clinical.cases_selection.2018-05-19.json')"
   ]
  },
  {
   "cell_type": "code",
   "execution_count": 122,
   "metadata": {},
   "outputs": [
    {
     "data": {
      "text/html": [
       "<div>\n",
       "<style>\n",
       "    .dataframe thead tr:only-child th {\n",
       "        text-align: right;\n",
       "    }\n",
       "\n",
       "    .dataframe thead th {\n",
       "        text-align: left;\n",
       "    }\n",
       "\n",
       "    .dataframe tbody tr th {\n",
       "        vertical-align: top;\n",
       "    }\n",
       "</style>\n",
       "<table border=\"1\" class=\"dataframe\">\n",
       "  <thead>\n",
       "    <tr style=\"text-align: right;\">\n",
       "      <th></th>\n",
       "      <th>case_id</th>\n",
       "      <th>tumor_stage</th>\n",
       "    </tr>\n",
       "  </thead>\n",
       "  <tbody>\n",
       "    <tr>\n",
       "      <th>0</th>\n",
       "      <td>1bf54408-b5cb-45dc-ad03-ef2866a0ff59</td>\n",
       "      <td>stage i</td>\n",
       "    </tr>\n",
       "    <tr>\n",
       "      <th>1</th>\n",
       "      <td>5cbf0134-023b-4bd0-97da-eb836ccbc729</td>\n",
       "      <td>stage i</td>\n",
       "    </tr>\n",
       "    <tr>\n",
       "      <th>2</th>\n",
       "      <td>d80f601b-1064-4ff0-9c51-7f6afb22d1f5</td>\n",
       "      <td>stage iv</td>\n",
       "    </tr>\n",
       "    <tr>\n",
       "      <th>3</th>\n",
       "      <td>a8ec7a72-7e3a-41cc-9eb7-62e7a0642a20</td>\n",
       "      <td>stage i</td>\n",
       "    </tr>\n",
       "    <tr>\n",
       "      <th>4</th>\n",
       "      <td>421e845c-f4e8-4f46-bff6-9aaa9d208e81</td>\n",
       "      <td>stage i</td>\n",
       "    </tr>\n",
       "  </tbody>\n",
       "</table>\n",
       "</div>"
      ],
      "text/plain": [
       "                                case_id tumor_stage\n",
       "0  1bf54408-b5cb-45dc-ad03-ef2866a0ff59     stage i\n",
       "1  5cbf0134-023b-4bd0-97da-eb836ccbc729     stage i\n",
       "2  d80f601b-1064-4ff0-9c51-7f6afb22d1f5    stage iv\n",
       "3  a8ec7a72-7e3a-41cc-9eb7-62e7a0642a20     stage i\n",
       "4  421e845c-f4e8-4f46-bff6-9aaa9d208e81     stage i"
      ]
     },
     "execution_count": 122,
     "metadata": {},
     "output_type": "execute_result"
    }
   ],
   "source": [
    "diagnosis_data = raw_data['diagnoses'].apply(lambda x: x[0])\n",
    "tumor_stage = diagnosis_data.apply(lambda x: x['tumor_stage'])\n",
    "ids = raw_data['case_id']\n",
    "clean_data = pd.DataFrame(data=[raw_data['case_id'], raw_data['diagnoses'].apply(lambda x: x[0]['tumor_stage'])]).T\n",
    "clean_data = clean_data.rename(index=str,columns={'diagnoses': 'tumor_stage'})\n",
    "clean_data.head()"
   ]
  },
  {
   "cell_type": "code",
   "execution_count": 116,
   "metadata": {},
   "outputs": [
    {
     "data": {
      "image/png": "[encoded data removed]",
      "text/plain": [
       "<matplotlib.figure.Figure at 0x1a15e3d6a0>"
      ]
     },
     "metadata": {},
     "output_type": "display_data"
    }
   ],
   "source": [
    "sns.countplot(tumor_stage, order=['stage i', 'stage ii', 'stage iii', 'stage iv', 'not reported'])\n",
    "plt.show()"
   ]
  },
  {
   "cell_type": "code",
   "execution_count": null,
   "metadata": {
    "collapsed": true
   },
   "outputs": [],
   "source": []
  }
 ],
 "metadata": {
  "kernelspec": {
   "display_name": "Python 3",
   "language": "python",
   "name": "python3"
  },
  "language_info": {
   "codemirror_mode": {
    "name": "ipython",
    "version": 3
   },
   "file_extension": ".py",
   "mimetype": "text/x-python",
   "name": "python",
   "nbconvert_exporter": "python",
   "pygments_lexer": "ipython3",
   "version": "3.6.1"
  }
 },
 "nbformat": 4,
 "nbformat_minor": 2
}
